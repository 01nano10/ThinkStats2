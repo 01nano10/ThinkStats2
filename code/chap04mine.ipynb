{
 "cells": [
  {
   "cell_type": "markdown",
   "metadata": {},
   "source": [
    "# Examples and Exercises from Think Stats, 2nd Edition\n",
    "\n",
    "http://thinkstats2.com\n",
    "\n",
    "Copyright 2016 Allen B. Downey\n",
    "\n",
    "MIT License: https://opensource.org/licenses/MIT\n"
   ]
  },
  {
   "cell_type": "code",
   "execution_count": 1,
   "metadata": {},
   "outputs": [],
   "source": [
    "from __future__ import print_function, division\n",
    "\n",
    "%matplotlib inline\n",
    "\n",
    "import numpy as np\n",
    "\n",
    "import nsfg\n",
    "import first\n",
    "import thinkstats2\n",
    "import thinkplot"
   ]
  },
  {
   "cell_type": "markdown",
   "metadata": {},
   "source": [
    "## Examples\n",
    "\n",
    "One more time, I'll load the data from the NSFG."
   ]
  },
  {
   "cell_type": "code",
   "execution_count": 2,
   "metadata": {},
   "outputs": [],
   "source": [
    "live, firsts, others = first.MakeFrames()#what is this method of loading data?\n"
   ]
  },
  {
   "cell_type": "markdown",
   "metadata": {},
   "source": [
    "And compute the distribution of birth weight for first babies and others."
   ]
  },
  {
   "cell_type": "code",
   "execution_count": 3,
   "metadata": {},
   "outputs": [
    {
     "name": "stdout",
     "output_type": "stream",
     "text": [
      "Firsts 4413 4363\n",
      "Others 4735 4675\n"
     ]
    }
   ],
   "source": [
    "first_wgt = firsts.totalwgt_lb\n",
    "first_wgt_dropna = first_wgt.dropna()\n",
    "print('Firsts', len(first_wgt), len(first_wgt_dropna))\n",
    " \n",
    "other_wgt = others.totalwgt_lb\n",
    "other_wgt_dropna = other_wgt.dropna()\n",
    "print('Others', len(other_wgt), len(other_wgt_dropna))\n",
    "\n",
    "first_pmf = thinkstats2.Pmf(first_wgt_dropna, label='first')\n",
    "other_pmf = thinkstats2.Pmf(other_wgt_dropna, label='other')"
   ]
  },
  {
   "cell_type": "markdown",
   "metadata": {},
   "source": [
    "We can plot the PMFs on the same scale, but it is hard to see if there is a difference."
   ]
  },
  {
   "cell_type": "code",
   "execution_count": 4,
   "metadata": {},
   "outputs": [
    {
     "data": {
      "image/png": "[encoded data removed]",
      "text/plain": [
       "<Figure size 432x288 with 1 Axes>"
      ]
     },
     "metadata": {
      "needs_background": "light"
     },
     "output_type": "display_data"
    }
   ],
   "source": [
    "width = 0.4 / 16\n",
    "\n",
    "# plot PMFs of birth weights for first babies and others\n",
    "thinkplot.PrePlot(2)\n",
    "thinkplot.Hist(first_pmf, align='right', width=width)\n",
    "thinkplot.Hist(other_pmf, align='left', width=width)\n",
    "thinkplot.Config(xlabel='Weight (pounds)', ylabel='PMF')"
   ]
  },
  {
   "cell_type": "markdown",
   "metadata": {},
   "source": [
    "`PercentileRank` computes the fraction of `scores` less than or equal to `your_score`."
   ]
  },
  {
   "cell_type": "code",
   "execution_count": 5,
   "metadata": {},
   "outputs": [],
   "source": [
    "def PercentileRank(scores, your_score):\n",
    "    count = 0\n",
    "    for score in scores:\n",
    "        if score <= your_score:\n",
    "            count += 1\n",
    "\n",
    "    percentile_rank = 100.0 * count / len(scores)\n",
    "    return percentile_rank"
   ]
  },
  {
   "cell_type": "markdown",
   "metadata": {},
   "source": [
    "If this is the list of scores."
   ]
  },
  {
   "cell_type": "code",
   "execution_count": 6,
   "metadata": {},
   "outputs": [],
   "source": [
    "t = [55, 66, 77, 88, 99]"
   ]
  },
  {
   "cell_type": "markdown",
   "metadata": {},
   "source": [
    "And you got the 88, your percentile rank is 80."
   ]
  },
  {
   "cell_type": "code",
   "execution_count": 7,
   "metadata": {},
   "outputs": [
    {
     "data": {
      "text/plain": [
       "80.0"
      ]
     },
     "execution_count": 7,
     "metadata": {},
     "output_type": "execute_result"
    }
   ],
   "source": [
    "PercentileRank(t, 88)"
   ]
  },
  {
   "cell_type": "markdown",
   "metadata": {},
   "source": [
    "`Percentile` takes a percentile rank and computes the corresponding percentile. "
   ]
  },
  {
   "cell_type": "code",
   "execution_count": 8,
   "metadata": {},
   "outputs": [],
   "source": [
    "def Percentile(scores, percentile_rank):\n",
    "    scores.sort()\n",
    "    for score in scores:\n",
    "        if PercentileRank(scores, score) >= percentile_rank:\n",
    "            return score"
   ]
  },
  {
   "cell_type": "markdown",
   "metadata": {},
   "source": [
    "The median is the 50th percentile, which is 77."
   ]
  },
  {
   "cell_type": "code",
   "execution_count": 9,
   "metadata": {},
   "outputs": [
    {
     "data": {
      "text/plain": [
       "77"
      ]
     },
     "execution_count": 9,
     "metadata": {},
     "output_type": "execute_result"
    }
   ],
   "source": [
    "Percentile(t, 50)"
   ]
  },
  {
   "cell_type": "markdown",
   "metadata": {},
   "source": [
    "Here's a more efficient way to compute percentiles."
   ]
  },
  {
   "cell_type": "code",
   "execution_count": 10,
   "metadata": {},
   "outputs": [],
   "source": [
    "def Percentile2(scores, percentile_rank):\n",
    "    scores.sort() #data must always be sorted for this function to work\n",
    "    index = percentile_rank * (len(scores)-1) // 100 #floor division returns an int\n",
    "    return scores[index]"
   ]
  },
  {
   "cell_type": "markdown",
   "metadata": {},
   "source": [
    "Let's hope we get the same answer."
   ]
  },
  {
   "cell_type": "code",
   "execution_count": 11,
   "metadata": {},
   "outputs": [
    {
     "data": {
      "text/plain": [
       "77"
      ]
     },
     "execution_count": 11,
     "metadata": {},
     "output_type": "execute_result"
    }
   ],
   "source": [
    "Percentile2(t, 50)"
   ]
  },
  {
   "cell_type": "markdown",
   "metadata": {},
   "source": [
    "The Cumulative Distribution Function (CDF) is almost the same as `PercentileRank`.  The only difference is that the result is 0-1 instead of 0-100."
   ]
  },
  {
   "cell_type": "code",
   "execution_count": 12,
   "metadata": {},
   "outputs": [],
   "source": [
    "def EvalCdf(sample, x):\n",
    "    count = 0.0\n",
    "    for value in sample:\n",
    "        if value <= x:\n",
    "            count += 1\n",
    "\n",
    "    prob = count / len(sample)\n",
    "    return prob"
   ]
  },
  {
   "cell_type": "markdown",
   "metadata": {},
   "source": [
    "In this list"
   ]
  },
  {
   "cell_type": "code",
   "execution_count": 13,
   "metadata": {},
   "outputs": [],
   "source": [
    "t = [1, 2, 2, 3, 5]"
   ]
  },
  {
   "cell_type": "markdown",
   "metadata": {},
   "source": [
    "We can evaluate the CDF for various values:"
   ]
  },
  {
   "cell_type": "code",
   "execution_count": 14,
   "metadata": {},
   "outputs": [
    {
     "data": {
      "text/plain": [
       "(0.0, 0.2, 0.6, 0.8, 0.8, 1.0)"
      ]
     },
     "execution_count": 14,
     "metadata": {},
     "output_type": "execute_result"
    }
   ],
   "source": [
    "EvalCdf(t, 0), EvalCdf(t, 1), EvalCdf(t, 2), EvalCdf(t, 3), EvalCdf(t, 4), EvalCdf(t, 5)"
   ]
  },
  {
   "cell_type": "markdown",
   "metadata": {},
   "source": [
    "Here's an example using real data, the distribution of pregnancy length for live births."
   ]
  },
  {
   "cell_type": "code",
   "execution_count": 15,
   "metadata": {},
   "outputs": [
    {
     "name": "stdout",
     "output_type": "stream",
     "text": [
      "<class 'thinkstats2.Cdf'>\n"
     ]
    },
    {
     "data": {
      "image/png": "[encoded data removed]",
      "text/plain": [
       "<Figure size 432x288 with 1 Axes>"
      ]
     },
     "metadata": {
      "needs_background": "light"
     },
     "output_type": "display_data"
    }
   ],
   "source": [
    "cdf = thinkstats2.Cdf(live.prglngth, label='prglngth')\n",
    "print(type(cdf))\n",
    "thinkplot.Cdf(cdf)\n",
    "thinkplot.Config(xlabel='Pregnancy length (weeks)', ylabel='CDF', loc='upper left')"
   ]
  },
  {
   "cell_type": "markdown",
   "metadata": {},
   "source": [
    "`Cdf` provides `Prob`, which evaluates the CDF; that is, it computes the fraction of values less than or equal to the given value.  For example, 94% of pregnancy lengths are less than or equal to 41."
   ]
  },
  {
   "cell_type": "code",
   "execution_count": 16,
   "metadata": {},
   "outputs": [
    {
     "data": {
      "text/plain": [
       "0.9406427634455619"
      ]
     },
     "execution_count": 16,
     "metadata": {},
     "output_type": "execute_result"
    }
   ],
   "source": [
    "cdf.Prob(41)"
   ]
  },
  {
   "cell_type": "markdown",
   "metadata": {
    "collapsed": true
   },
   "source": [
    "`Value` evaluates the inverse CDF; given a fraction, it computes the corresponding value.  For example, the median is the value that corresponds to 0.5."
   ]
  },
  {
   "cell_type": "code",
   "execution_count": 17,
   "metadata": {},
   "outputs": [
    {
     "data": {
      "text/plain": [
       "39"
      ]
     },
     "execution_count": 17,
     "metadata": {},
     "output_type": "execute_result"
    }
   ],
   "source": [
    "cdf.Value(0.5)"
   ]
  },
  {
   "cell_type": "markdown",
   "metadata": {},
   "source": [
    "In general, CDFs are a good way to visualize distributions.  They are not as noisy as PMFs, and if you plot several CDFs on the same axes, any differences between them are apparent."
   ]
  },
  {
   "cell_type": "code",
   "execution_count": 18,
   "metadata": {},
   "outputs": [
    {
     "data": {
      "image/png": "[encoded data removed]",
      "text/plain": [
       "<Figure size 432x288 with 1 Axes>"
      ]
     },
     "metadata": {
      "needs_background": "light"
     },
     "output_type": "display_data"
    }
   ],
   "source": [
    "first_cdf = thinkstats2.Cdf(firsts.totalwgt_lb, label='first')\n",
    "other_cdf = thinkstats2.Cdf(others.totalwgt_lb, label='other')\n",
    "\n",
    "thinkplot.PrePlot(2)\n",
    "thinkplot.Cdfs([first_cdf, other_cdf])\n",
    "thinkplot.Config(xlabel='Weight (pounds)', ylabel='CDF')"
   ]
  },
  {
   "cell_type": "markdown",
   "metadata": {},
   "source": [
    "In this example, we can see that first babies are slightly, but consistently, lighter than others.\n",
    "\n",
    "We can use the CDF of birth weight to compute percentile-based statistics."
   ]
  },
  {
   "cell_type": "code",
   "execution_count": 19,
   "metadata": {},
   "outputs": [],
   "source": [
    "weights = live.totalwgt_lb\n",
    "live_cdf = thinkstats2.Cdf(weights, label='live')"
   ]
  },
  {
   "cell_type": "markdown",
   "metadata": {},
   "source": [
    "Again, the median is the 50th percentile."
   ]
  },
  {
   "cell_type": "code",
   "execution_count": 20,
   "metadata": {},
   "outputs": [
    {
     "data": {
      "text/plain": [
       "7.375"
      ]
     },
     "execution_count": 20,
     "metadata": {},
     "output_type": "execute_result"
    }
   ],
   "source": [
    "median = live_cdf.Percentile(50)\n",
    "median"
   ]
  },
  {
   "cell_type": "markdown",
   "metadata": {},
   "source": [
    "The interquartile range is the interval from the 25th to 75th percentile."
   ]
  },
  {
   "cell_type": "code",
   "execution_count": 21,
   "metadata": {},
   "outputs": [
    {
     "data": {
      "text/plain": [
       "(6.5, 8.125)"
      ]
     },
     "execution_count": 21,
     "metadata": {},
     "output_type": "execute_result"
    }
   ],
   "source": [
    "iqr = (live_cdf.Percentile(25), live_cdf.Percentile(75))\n",
    "iqr"
   ]
  },
  {
   "cell_type": "markdown",
   "metadata": {},
   "source": [
    "We can use the CDF to look up the percentile rank of a particular value.  For example, my second daughter was 10.2 pounds at birth, which is near the 99th percentile."
   ]
  },
  {
   "cell_type": "code",
   "execution_count": 22,
   "metadata": {},
   "outputs": [
    {
     "data": {
      "text/plain": [
       "98.82717415357381"
      ]
     },
     "execution_count": 22,
     "metadata": {},
     "output_type": "execute_result"
    }
   ],
   "source": [
    "live_cdf.PercentileRank(10.2)"
   ]
  },
  {
   "cell_type": "markdown",
   "metadata": {},
   "source": [
    "If we draw a random sample from the observed weights and map each weigh to its percentile rank."
   ]
  },
  {
   "cell_type": "code",
   "execution_count": 23,
   "metadata": {},
   "outputs": [],
   "source": [
    "sample = np.random.choice(weights, 100, replace=True)\n",
    "ranks = [live_cdf.PercentileRank(x) for x in sample]"
   ]
  },
  {
   "cell_type": "markdown",
   "metadata": {},
   "source": [
    "The resulting list of ranks should be approximately uniform from 0-1."
   ]
  },
  {
   "cell_type": "code",
   "execution_count": 24,
   "metadata": {},
   "outputs": [
    {
     "name": "stderr",
     "output_type": "stream",
     "text": [
      "No handles with labels found to put in legend.\n"
     ]
    },
    {
     "data": {
      "image/png": "[encoded data removed]",
      "text/plain": [
       "<Figure size 432x288 with 1 Axes>"
      ]
     },
     "metadata": {
      "needs_background": "light"
     },
     "output_type": "display_data"
    }
   ],
   "source": [
    "rank_cdf = thinkstats2.Cdf(ranks)\n",
    "thinkplot.Cdf(rank_cdf)\n",
    "thinkplot.Config(xlabel='Percentile rank', ylabel='CDF')"
   ]
  },
  {
   "cell_type": "markdown",
   "metadata": {},
   "source": [
    "That observation is the basis of `Cdf.Sample`, which generates a random sample from a Cdf.  Here's an example."
   ]
  },
  {
   "cell_type": "code",
   "execution_count": 25,
   "metadata": {},
   "outputs": [
    {
     "data": {
      "image/png": "[encoded data removed]",
      "text/plain": [
       "<Figure size 432x288 with 1 Axes>"
      ]
     },
     "metadata": {
      "needs_background": "light"
     },
     "output_type": "display_data"
    }
   ],
   "source": [
    "resample = live_cdf.Sample(1000)\n",
    "thinkplot.Cdf(live_cdf)\n",
    "thinkplot.Cdf(thinkstats2.Cdf(resample, label='resample'))\n",
    "thinkplot.Config(xlabel='Birth weight (pounds)', ylabel='CDF')"
   ]
  },
  {
   "cell_type": "markdown",
   "metadata": {},
   "source": [
    "This confirms that the random sample has the same distribution as the original data."
   ]
  },
  {
   "cell_type": "markdown",
   "metadata": {
    "collapsed": true
   },
   "source": [
    "## Exercises"
   ]
  },
  {
   "cell_type": "markdown",
   "metadata": {
    "collapsed": true
   },
   "source": [
    "**Exercise:** How much did you weigh at birth? If you don’t know, call your mother or someone else who knows. Using the NSFG data (all live births), compute the distribution of birth weights and use it to find your percentile rank. If you were a first baby, find your percentile rank in the distribution for first babies. Otherwise use the distribution for others. If you are in the 90th percentile or higher, call your mother back and apologize."
   ]
  },
  {
   "cell_type": "code",
   "execution_count": 29,
   "metadata": {},
   "outputs": [
    {
     "data": {
      "text/plain": [
       "{'xscale': 'linear', 'yscale': 'linear'}"
      ]
     },
     "execution_count": 29,
     "metadata": {},
     "output_type": "execute_result"
    },
    {
     "data": {
      "image/png": "[encoded data removed]",
      "text/plain": [
       "<Figure size 432x288 with 1 Axes>"
      ]
     },
     "metadata": {
      "needs_background": "light"
     },
     "output_type": "display_data"
    }
   ],
   "source": [
    "birthWeights = live.birthwgt_lb# Solution goes here\n",
    "cdf = thinkstats2.Cdf(birthWeights)\n",
    "thinkplot.Cdf(cdf)"
   ]
  },
  {
   "cell_type": "code",
   "execution_count": 32,
   "metadata": {},
   "outputs": [
    {
     "data": {
      "text/plain": [
       "0.021906649053280495"
      ]
     },
     "execution_count": 32,
     "metadata": {},
     "output_type": "execute_result"
    }
   ],
   "source": [
    "cdf.Prob(3)"
   ]
  },
  {
   "cell_type": "markdown",
   "metadata": {
    "collapsed": true
   },
   "source": [
    "**Exercise:** The numbers generated by `numpy.random.random` are supposed to be uniform between 0 and 1; that is, every value in the range should have the same probability.\n",
    "\n",
    "Generate 1000 numbers from `numpy.random.random` and plot their PMF.  What goes wrong?\n",
    "\n",
    "Now plot the CDF. Is the distribution uniform?"
   ]
  },
  {
   "cell_type": "code",
   "execution_count": 34,
   "metadata": {},
   "outputs": [
    {
     "data": {
      "text/plain": [
       "array([6.21632286e-01, 1.91393207e-01, 8.30287237e-02, 7.02338331e-01,\n",
       "       9.52572247e-01, 9.18987923e-01, 3.58059743e-01, 7.84674481e-01,\n",
       "       1.40457264e-02, 3.32579648e-01, 5.71594937e-01, 9.77569854e-01,\n",
       "       7.98121221e-01, 9.53829872e-01, 2.96108235e-01, 5.30194168e-01,\n",
       "       6.86015990e-01, 8.87223543e-01, 1.89188435e-01, 6.31468554e-01,\n",
       "       3.87012196e-01, 4.24348230e-01, 9.76679734e-01, 2.94403163e-01,\n",
       "       5.60328785e-01, 8.44841145e-01, 6.47878086e-01, 1.25499104e-01,\n",
       "       4.26707491e-01, 5.91775168e-01, 9.88283318e-02, 7.54510394e-02,\n",
       "       7.52595838e-01, 9.67224117e-01, 5.26227032e-01, 6.74889227e-01,\n",
       "       7.74937785e-01, 5.78924299e-01, 8.03935548e-01, 8.15243063e-01,\n",
       "       3.26184239e-01, 7.71140510e-01, 3.68837790e-01, 4.22300181e-01,\n",
       "       6.92631108e-01, 3.94468226e-01, 4.08570816e-01, 2.20982744e-01,\n",
       "       6.89397271e-01, 4.68033441e-01, 3.14958065e-01, 6.20365832e-01,\n",
       "       4.53396874e-02, 6.26121072e-01, 3.57886717e-01, 9.67451587e-01,\n",
       "       4.07778406e-01, 3.19793933e-01, 7.91289498e-01, 4.86736809e-01,\n",
       "       6.29734804e-01, 5.64064007e-01, 3.88022883e-02, 3.22460179e-02,\n",
       "       6.20988380e-01, 2.13953722e-01, 3.36077753e-01, 9.74550499e-01,\n",
       "       6.44480216e-01, 5.61889831e-01, 2.15953976e-01, 4.93545448e-02,\n",
       "       9.48657806e-01, 5.24028758e-01, 1.77457986e-01, 5.79868321e-02,\n",
       "       1.95527080e-01, 9.30816680e-01, 6.96595945e-01, 6.02591126e-01,\n",
       "       5.24721108e-01, 8.26413269e-01, 6.80463441e-01, 9.52112578e-01,\n",
       "       1.09918311e-01, 1.15568518e-01, 8.49268108e-01, 1.95578030e-01,\n",
       "       9.47853185e-01, 5.75437361e-01, 6.79003372e-01, 6.84668300e-02,\n",
       "       4.98047879e-01, 7.63603617e-02, 5.22269412e-01, 1.73157720e-01,\n",
       "       8.58043039e-01, 6.79343514e-01, 9.53740198e-01, 8.03427042e-01,\n",
       "       6.57332449e-01, 5.33380072e-01, 8.07981718e-01, 4.48788413e-02,\n",
       "       5.14410327e-03, 9.28215691e-01, 4.39424695e-01, 8.30965557e-01,\n",
       "       9.34839970e-02, 9.38011901e-04, 1.46848236e-01, 4.59205924e-01,\n",
       "       6.88064950e-01, 3.43331608e-01, 6.96048142e-01, 1.98453633e-01,\n",
       "       8.75657988e-01, 5.78594961e-01, 2.05368911e-01, 1.23252356e-01,\n",
       "       5.99426841e-01, 7.58939665e-02, 4.94754754e-01, 8.15469104e-01,\n",
       "       5.15312954e-01, 2.94439331e-01, 4.40231323e-01, 7.76992787e-01,\n",
       "       2.47228918e-01, 1.47716387e-01, 1.46624509e-01, 3.55415379e-01,\n",
       "       1.54807328e-01, 7.87500112e-01, 1.35433540e-01, 5.22169116e-01,\n",
       "       8.97958040e-01, 2.24030095e-01, 7.35498881e-01, 9.32148764e-01,\n",
       "       9.75841362e-01, 7.83226197e-01, 6.51658211e-01, 5.06239433e-01,\n",
       "       6.97929777e-01, 8.70854721e-01, 7.58735021e-01, 5.38514455e-01,\n",
       "       4.56747898e-01, 3.71733068e-01, 1.55968674e-01, 5.99840655e-01,\n",
       "       7.14155381e-01, 4.60166480e-01, 9.52490372e-01, 6.51666561e-01,\n",
       "       6.25142594e-01, 2.92419578e-01, 4.84645029e-01, 9.61411373e-01,\n",
       "       8.31282189e-01, 8.36760712e-01, 6.99586877e-01, 4.97467957e-01,\n",
       "       8.09339700e-01, 4.88084692e-01, 7.81399733e-01, 1.08201668e-01,\n",
       "       5.33018484e-01, 1.97483606e-01, 3.29200736e-01, 5.55781712e-01,\n",
       "       3.76774744e-01, 4.91681978e-01, 7.12822109e-01, 5.96484707e-01,\n",
       "       3.15144957e-01, 1.42285230e-01, 4.52064363e-01, 8.74579680e-01,\n",
       "       6.84437651e-01, 5.70528570e-01, 8.29176693e-01, 7.15093889e-01,\n",
       "       7.37209894e-01, 9.35688333e-01, 6.21728073e-02, 8.64296540e-01,\n",
       "       5.78105502e-01, 4.89750917e-01, 8.21101195e-01, 7.25152446e-01,\n",
       "       4.60572356e-01, 4.69231521e-01, 9.75547449e-01, 6.31700712e-01,\n",
       "       9.74918463e-01, 6.11810476e-01, 9.57884033e-01, 4.38454973e-01,\n",
       "       9.27421662e-01, 2.23854175e-01, 3.60739955e-01, 4.52740806e-01,\n",
       "       5.38303171e-01, 2.68234240e-01, 8.02956238e-01, 4.34695502e-02,\n",
       "       7.47394740e-01, 5.39948521e-01, 3.92518059e-01, 4.05647955e-01,\n",
       "       2.44511908e-01, 1.29778352e-01, 5.54754897e-01, 3.78379092e-01,\n",
       "       4.04109169e-02, 1.27727323e-01, 6.01833833e-01, 5.00656770e-01,\n",
       "       8.78973744e-01, 9.24083335e-01, 9.79036549e-01, 7.46933582e-02,\n",
       "       2.07477674e-01, 1.42403780e-01, 8.82559692e-01, 6.30371138e-01,\n",
       "       7.18358724e-01, 1.51593958e-01, 2.17028712e-01, 4.08997090e-01,\n",
       "       2.34567123e-01, 3.72050938e-01, 8.40477813e-02, 8.13197642e-01,\n",
       "       8.50343207e-01, 2.12991183e-01, 9.01159162e-02, 6.21762604e-01,\n",
       "       9.07710377e-01, 4.53406526e-01, 3.22908553e-01, 1.29070804e-01,\n",
       "       3.57721729e-01, 2.12193235e-01, 4.17800378e-01, 5.98161057e-02,\n",
       "       2.90432053e-01, 7.31844390e-01, 7.43265529e-01, 5.50593137e-01,\n",
       "       1.65161816e-02, 7.98463601e-01, 6.56364100e-01, 1.98618028e-01,\n",
       "       7.85702508e-01, 9.84430457e-02, 8.63618913e-01, 6.51939047e-01,\n",
       "       3.35327173e-01, 3.83602247e-01, 5.48597375e-01, 1.76133821e-01,\n",
       "       1.71742658e-02, 9.17665952e-01, 1.84836319e-01, 7.37292345e-01,\n",
       "       4.42781566e-01, 2.92150639e-02, 9.78001601e-01, 8.27942831e-01,\n",
       "       1.18658330e-01, 8.67405692e-01, 2.12619831e-03, 4.11938063e-01,\n",
       "       6.54785130e-01, 1.80226910e-01, 9.89564494e-01, 6.24250953e-01,\n",
       "       7.51779473e-01, 5.25867774e-01, 2.94532224e-01, 4.58886713e-01,\n",
       "       3.31487197e-01, 7.88288127e-01, 7.76290371e-01, 9.44473892e-01,\n",
       "       4.57941710e-01, 5.71314165e-02, 2.75367586e-01, 1.73508542e-02,\n",
       "       4.05825982e-01, 7.88241249e-01, 1.26523335e-01, 8.96292924e-01,\n",
       "       2.87171445e-01, 9.05811517e-01, 5.79774774e-01, 6.07450461e-01,\n",
       "       3.70334595e-02, 2.21708808e-01, 3.03374879e-02, 3.45211457e-01,\n",
       "       2.06446625e-01, 7.03345756e-01, 4.24733437e-01, 3.76308264e-01,\n",
       "       5.74463621e-02, 5.58094675e-01, 4.35573371e-02, 1.82496235e-01,\n",
       "       5.85077147e-01, 5.56856231e-01, 6.43957660e-01, 7.10340869e-02,\n",
       "       5.80332359e-01, 9.25078361e-01, 4.31642827e-01, 6.06795912e-01,\n",
       "       5.10172889e-01, 7.75778264e-01, 1.71580952e-01, 9.30053160e-02,\n",
       "       5.92422093e-02, 2.39365759e-01, 1.12144956e-01, 7.39592061e-01,\n",
       "       9.23314710e-01, 7.46604801e-01, 3.26650175e-01, 4.07889725e-01,\n",
       "       9.39702748e-01, 2.40472683e-01, 7.98285725e-01, 9.95918701e-01,\n",
       "       1.43844414e-01, 7.87153125e-02, 7.17820892e-01, 2.81030057e-01,\n",
       "       8.55112825e-02, 4.80224278e-01, 9.61109290e-01, 3.95741561e-01,\n",
       "       7.46548682e-01, 4.79011229e-03, 2.59198984e-01, 2.54126466e-01,\n",
       "       5.57828237e-01, 2.10253268e-01, 4.14729101e-01, 4.56129565e-02,\n",
       "       4.24297707e-01, 5.08457312e-01, 4.59385858e-01, 6.37993414e-01,\n",
       "       5.10634598e-01, 7.15489451e-01, 9.83423972e-02, 8.66435557e-03,\n",
       "       6.36308863e-01, 4.44157941e-01, 1.19130351e-01, 7.71279704e-01,\n",
       "       8.97547133e-01, 6.01068922e-01, 5.28280203e-01, 9.58728452e-01,\n",
       "       8.87599449e-01, 9.34763035e-03, 3.49424517e-01, 9.91396908e-01,\n",
       "       8.06764032e-01, 7.23069764e-01, 3.22430012e-01, 1.40482194e-01,\n",
       "       2.37467055e-02, 4.53303274e-01, 5.40844658e-01, 9.72942840e-01,\n",
       "       7.61661701e-01, 8.03564658e-01, 2.68976450e-01, 5.52765325e-01,\n",
       "       5.66356111e-01, 9.87888849e-01, 2.17986813e-01, 3.97470285e-01,\n",
       "       3.65989417e-01, 9.25684755e-01, 6.72215459e-01, 6.23775918e-01,\n",
       "       9.90222798e-01, 8.40791332e-01, 6.42545746e-01, 3.58172159e-01,\n",
       "       8.32266493e-01, 7.13007991e-01, 6.53032225e-01, 1.14770394e-01,\n",
       "       8.41049470e-01, 2.00804542e-01, 7.30148017e-01, 6.37142669e-01,\n",
       "       3.07737363e-01, 6.69697843e-01, 5.60218644e-01, 7.36018909e-01,\n",
       "       8.96433236e-01, 6.26390598e-01, 2.90308264e-01, 2.32704006e-01,\n",
       "       3.92734027e-01, 7.00320384e-01, 4.20799451e-01, 8.58145450e-01,\n",
       "       1.33807403e-02, 5.46588130e-01, 7.44256316e-01, 8.59223446e-01,\n",
       "       9.45492164e-01, 3.75620376e-01, 3.72596724e-01, 6.95533805e-03,\n",
       "       1.36043370e-01, 1.80864387e-01, 8.72713106e-01, 7.55792854e-01,\n",
       "       1.60932282e-01, 5.97247256e-01, 9.25840805e-01, 3.10610820e-01,\n",
       "       5.67159143e-01, 2.07149046e-01, 1.40497246e-01, 6.81898778e-01,\n",
       "       4.02006498e-04, 1.27244495e-01, 2.16307622e-01, 8.28948275e-01,\n",
       "       3.77707400e-01, 9.16048529e-01, 9.67706695e-01, 2.57406195e-01,\n",
       "       7.70849810e-01, 3.27524212e-01, 4.66228416e-01, 8.99094359e-01,\n",
       "       1.37275662e-01, 1.08521938e-01, 4.18128674e-01, 8.19625775e-01,\n",
       "       4.14784959e-01, 6.51444310e-01, 1.32315764e-01, 2.56064783e-01,\n",
       "       1.25784496e-01, 6.94369836e-01, 7.67077664e-01, 1.88611260e-01,\n",
       "       9.40864373e-01, 9.62522629e-01, 1.16478443e-02, 3.05440783e-01,\n",
       "       7.87686112e-01, 4.96930233e-01, 7.87517765e-01, 6.01170459e-01,\n",
       "       9.25164940e-01, 1.78800569e-01, 9.70721884e-01, 8.67228722e-01,\n",
       "       3.95623415e-01, 7.36669888e-01, 7.95305701e-01, 3.63329353e-02,\n",
       "       2.53554469e-01, 3.91810289e-01, 2.30451388e-01, 6.55107634e-01,\n",
       "       3.49731730e-01, 2.38651696e-01, 8.52305976e-01, 3.65737649e-01,\n",
       "       1.47487581e-01, 7.75698874e-02, 5.91983483e-01, 3.40923017e-01,\n",
       "       4.63898168e-01, 7.06464426e-01, 7.51046763e-01, 2.55814417e-01,\n",
       "       4.80155291e-01, 2.14787675e-01, 3.28758653e-01, 1.77726806e-02,\n",
       "       2.09996201e-01, 9.00986286e-01, 3.41068617e-01, 2.49667305e-01,\n",
       "       2.36033945e-01, 3.46894923e-01, 7.21202123e-01, 9.58795042e-01,\n",
       "       1.46501034e-01, 4.33395182e-01, 1.58123682e-01, 6.71422364e-01,\n",
       "       3.11347640e-01, 3.26684436e-01, 2.66261500e-01, 1.89625061e-01,\n",
       "       4.38400942e-01, 6.90807336e-01, 9.53274843e-01, 5.75999896e-01,\n",
       "       9.73130049e-01, 1.41575613e-02, 2.49265093e-01, 2.77173726e-01,\n",
       "       5.32638572e-01, 1.43408545e-01, 3.56303726e-01, 1.47630447e-01,\n",
       "       7.10573569e-01, 5.41171378e-01, 6.70611853e-01, 1.24142098e-01,\n",
       "       1.87349220e-01, 3.38011511e-01, 3.76580116e-01, 6.64395643e-01,\n",
       "       3.62853086e-01, 2.90787992e-01, 3.54982409e-01, 3.28906760e-01,\n",
       "       3.18997769e-01, 3.18695028e-01, 5.37913356e-01, 7.36414475e-01,\n",
       "       5.85735030e-01, 9.42247108e-01, 9.77937011e-01, 6.48145959e-01,\n",
       "       4.10275178e-01, 7.93106459e-01, 1.62374258e-01, 6.93453813e-01,\n",
       "       8.79549206e-01, 9.72085695e-01, 3.87636533e-01, 9.58015471e-01,\n",
       "       1.77575260e-02, 2.36047040e-02, 7.41573604e-01, 6.68230035e-01,\n",
       "       4.54388871e-01, 3.60793417e-01, 9.96035470e-01, 8.69955605e-01,\n",
       "       8.98121678e-01, 2.73868289e-01, 2.67702887e-02, 7.97370306e-01,\n",
       "       9.19240143e-01, 7.03866624e-01, 1.27690436e-01, 4.67008233e-01,\n",
       "       8.18154577e-01, 4.38647544e-01, 8.00969818e-01, 3.37765414e-02,\n",
       "       6.00891424e-01, 2.41072636e-01, 1.91394854e-01, 9.91591349e-01,\n",
       "       3.97373168e-01, 7.95721864e-01, 7.55325510e-02, 3.23843471e-01,\n",
       "       7.19883789e-01, 2.54360946e-01, 8.84923511e-02, 3.15881513e-01,\n",
       "       2.93618237e-01, 5.50036863e-01, 1.47692548e-01, 2.97942366e-01,\n",
       "       3.39647686e-01, 4.65105600e-01, 8.42724802e-01, 9.83116538e-01,\n",
       "       7.50204754e-01, 9.14350135e-02, 9.12240762e-01, 8.66892069e-01,\n",
       "       7.93340115e-02, 9.93923767e-01, 5.84935784e-01, 1.78528602e-02,\n",
       "       6.94577162e-01, 7.54674742e-01, 4.21756010e-01, 5.51570271e-01,\n",
       "       6.19507346e-01, 7.26056218e-01, 8.58029575e-01, 4.99624123e-01,\n",
       "       4.04586113e-01, 3.27249671e-01, 1.53108097e-01, 9.38855054e-01,\n",
       "       8.06599921e-01, 1.35418851e-01, 8.29147851e-02, 8.81771212e-01,\n",
       "       5.92692948e-01, 5.67060358e-01, 4.94803332e-01, 9.88660536e-01,\n",
       "       9.69460921e-01, 4.88228272e-01, 7.01555642e-01, 5.07334885e-01,\n",
       "       8.19208175e-01, 3.26873203e-01, 8.66114665e-01, 1.98132331e-01,\n",
       "       7.93031904e-01, 1.39999218e-01, 7.77653853e-01, 1.88642964e-02,\n",
       "       7.99239961e-01, 4.29765338e-01, 9.57121758e-01, 8.48164370e-01,\n",
       "       5.62483192e-01, 3.90634323e-01, 6.22922897e-01, 2.07944838e-01,\n",
       "       8.00432758e-01, 5.80827347e-01, 7.99625938e-01, 9.79222028e-01,\n",
       "       4.51847146e-01, 3.06930569e-01, 3.77574317e-01, 6.00032127e-01,\n",
       "       8.07898501e-01, 4.31509120e-01, 7.81965255e-04, 8.86759263e-01,\n",
       "       9.31296576e-01, 9.82918358e-01, 5.70657513e-01, 7.28481017e-01,\n",
       "       2.63888165e-01, 7.48608833e-01, 2.20075463e-01, 2.60741646e-01,\n",
       "       2.58948178e-01, 9.25978366e-01, 8.09934152e-01, 3.40644193e-01,\n",
       "       7.33972723e-01, 2.32651812e-02, 3.51535704e-01, 2.70068352e-01,\n",
       "       3.75169846e-01, 9.10090026e-01, 5.49392308e-01, 6.89096783e-01,\n",
       "       6.79153492e-01, 9.90262045e-01, 1.42111377e-01, 7.75403790e-01,\n",
       "       4.97421395e-01, 9.31726080e-01, 1.68857265e-01, 7.23577628e-01,\n",
       "       4.40444801e-01, 5.54889650e-01, 1.31185168e-01, 2.60794687e-01,\n",
       "       6.29515369e-01, 1.90845381e-01, 8.96215553e-01, 7.10821350e-01,\n",
       "       8.81715029e-02, 2.46605266e-01, 4.20040735e-03, 4.03416111e-01,\n",
       "       3.14168848e-01, 5.86302406e-01, 5.29179389e-01, 3.17831341e-01,\n",
       "       3.99225655e-01, 2.11653329e-01, 9.01785431e-01, 3.90992582e-01,\n",
       "       4.67717698e-01, 3.37772567e-01, 7.29079808e-01, 9.89503826e-01,\n",
       "       6.18437206e-01, 3.82587113e-01, 3.33575741e-01, 5.96111144e-02,\n",
       "       5.41902480e-01, 4.44067932e-02, 5.50182471e-01, 8.25671766e-01,\n",
       "       7.10855249e-01, 4.99049361e-02, 3.13117438e-01, 2.81846062e-01,\n",
       "       1.74823000e-01, 8.29323266e-01, 1.85453383e-01, 6.68487066e-01,\n",
       "       4.73572723e-01, 5.37775738e-01, 6.34967686e-01, 9.72271313e-01,\n",
       "       7.87909446e-01, 8.06153264e-01, 2.30536962e-01, 9.43725720e-01,\n",
       "       1.44252051e-01, 3.73329625e-01, 4.53563524e-01, 3.75137029e-01,\n",
       "       8.83896669e-01, 9.98089527e-01, 7.88237317e-02, 7.41729810e-01,\n",
       "       5.05528797e-01, 1.13818231e-01, 5.32329948e-01, 8.51511716e-01,\n",
       "       8.98407252e-01, 5.47536456e-01, 8.02973441e-01, 6.58520249e-01,\n",
       "       2.61671884e-01, 1.12587831e-01, 8.14771356e-01, 6.03323179e-01,\n",
       "       6.74454203e-01, 6.70598439e-01, 2.25489405e-01, 9.91704968e-01,\n",
       "       4.77930700e-01, 1.78978948e-01, 9.91380182e-01, 9.67139019e-01,\n",
       "       7.17939726e-01, 9.70455186e-01, 2.55978273e-01, 4.75044922e-01,\n",
       "       1.31630032e-01, 2.16000871e-02, 4.25253387e-01, 2.03555413e-01,\n",
       "       4.53084684e-01, 5.46545274e-01, 3.76823002e-01, 3.88354796e-01,\n",
       "       2.23857099e-01, 8.19447762e-01, 6.75558628e-01, 5.15258449e-01,\n",
       "       2.12166374e-01, 3.29851317e-01, 4.88698346e-01, 9.41335283e-01,\n",
       "       9.23370657e-01, 6.40815863e-01, 2.23324408e-01, 9.22464781e-01,\n",
       "       8.50571670e-01, 8.80827073e-01, 7.88185703e-01, 6.85151587e-01,\n",
       "       5.37992817e-01, 3.01630542e-02, 8.65270699e-01, 8.15654122e-01,\n",
       "       6.78063240e-01, 1.26912760e-01, 9.71880323e-01, 5.54667453e-01,\n",
       "       1.86792511e-01, 8.20088136e-02, 5.45865178e-02, 2.01788045e-01,\n",
       "       1.12972560e-01, 2.38269899e-01, 1.85551979e-01, 6.99921254e-01,\n",
       "       4.85539391e-01, 1.12585015e-01, 6.88655471e-01, 2.90430089e-01,\n",
       "       7.83056355e-01, 4.39222524e-01, 2.96973233e-01, 4.05389246e-01,\n",
       "       2.25984297e-01, 9.26249219e-01, 8.00428118e-01, 7.68811606e-01,\n",
       "       8.61648500e-01, 8.08050921e-01, 4.10060969e-01, 6.41259655e-01,\n",
       "       4.96485655e-02, 1.27588900e-01, 5.68468030e-01, 1.83235399e-01,\n",
       "       4.36426340e-01, 7.38703748e-01, 3.18076054e-01, 9.92804398e-01,\n",
       "       5.44673487e-01, 2.25661386e-01, 7.37089026e-01, 2.22998037e-01,\n",
       "       4.84547247e-01, 5.41820301e-02, 7.87083019e-01, 7.96009517e-01,\n",
       "       2.73635197e-01, 6.38252345e-01, 1.41631103e-01, 7.53043166e-02,\n",
       "       5.35748003e-01, 2.93057067e-01, 2.93249241e-01, 2.22544426e-01,\n",
       "       7.33959891e-01, 8.62281024e-02, 6.60363885e-01, 9.32116096e-01,\n",
       "       6.27928388e-01, 8.55904579e-01, 5.16739614e-01, 2.46524197e-01,\n",
       "       6.72570902e-01, 5.08945330e-03, 8.86733231e-02, 6.75567313e-01,\n",
       "       3.46272749e-01, 3.72117088e-01, 3.36129204e-01, 9.33973009e-01,\n",
       "       9.24460466e-01, 1.30244024e-01, 3.72279238e-01, 8.31099702e-01,\n",
       "       9.14402280e-01, 6.25165621e-01, 2.10416624e-01, 9.80081233e-01,\n",
       "       1.22665454e-01, 8.68078652e-01, 3.90825329e-01, 1.33757274e-01,\n",
       "       2.85128130e-01, 6.23259070e-01, 9.49101237e-01, 4.69008966e-01,\n",
       "       9.17409841e-02, 3.08789987e-01, 1.34894140e-01, 4.78299474e-01,\n",
       "       7.71511171e-01, 9.59558057e-01, 3.05705125e-01, 4.79242674e-01,\n",
       "       5.54091770e-02, 2.63640658e-01, 7.40488981e-02, 1.52885347e-01,\n",
       "       1.17481564e-01, 7.26464037e-01, 3.06948897e-01, 2.04690805e-01,\n",
       "       1.20453993e-01, 1.78437190e-02, 8.04586109e-01, 5.56513683e-01,\n",
       "       2.14680767e-01, 4.96252169e-01, 7.46534082e-01, 7.11583134e-01,\n",
       "       3.32761105e-01, 5.29937879e-03, 3.02946937e-01, 5.11595150e-01,\n",
       "       8.01071586e-01, 5.84793902e-01, 3.55363793e-01, 4.87075066e-01,\n",
       "       3.12754453e-01, 9.57043453e-01, 3.76492521e-02, 7.93904835e-01,\n",
       "       7.44863721e-01, 7.53727282e-01, 7.05437942e-01, 4.29327189e-01,\n",
       "       1.22135145e-01, 8.23764268e-01, 1.29731089e-01, 1.92942136e-01,\n",
       "       1.95630000e-01, 3.70085302e-01, 7.25130145e-01, 3.65204541e-01,\n",
       "       4.93954912e-01, 8.91289274e-02, 8.99714260e-01, 5.78423435e-01,\n",
       "       9.72758779e-01, 5.58627991e-01, 7.40296728e-01, 4.00949507e-01,\n",
       "       5.91406207e-01, 9.53253652e-01, 5.65370794e-01, 7.23580404e-01,\n",
       "       3.00391398e-01, 7.62815535e-01, 9.01047310e-01, 5.82689422e-01,\n",
       "       2.91280934e-01, 4.05215339e-01, 8.56180737e-01, 2.01153061e-01,\n",
       "       4.72091426e-01, 6.54296528e-02, 4.06154328e-01, 3.32413129e-01,\n",
       "       9.51238390e-01, 7.51867783e-02, 9.38383123e-01, 1.76148142e-01,\n",
       "       9.53720052e-01, 5.53707272e-01, 9.79776448e-01, 7.97461465e-01,\n",
       "       2.24604123e-01, 9.01307322e-01, 5.94586634e-01, 5.42787386e-02,\n",
       "       1.04151165e-01, 9.89010728e-01, 7.25684842e-01, 1.38516300e-01,\n",
       "       4.88820020e-01, 8.48738963e-01, 8.66320998e-01, 5.08808403e-01,\n",
       "       3.85346756e-01, 6.63353985e-01, 6.19300631e-01, 7.28937158e-01,\n",
       "       3.26444074e-01, 3.76354063e-01, 9.57570698e-01, 6.34265791e-01,\n",
       "       4.80709436e-01, 8.07550968e-01, 2.51659810e-01, 8.75555074e-01,\n",
       "       2.60672991e-01, 2.89888376e-03, 6.62083234e-01, 2.25388344e-01,\n",
       "       5.32783502e-01, 9.49202237e-01, 9.15730483e-01, 8.73584516e-01,\n",
       "       1.91519730e-01, 7.24377446e-02, 8.83533795e-01, 1.28524735e-01,\n",
       "       5.98965334e-01, 8.46082441e-01, 3.35181098e-01, 1.72335882e-01,\n",
       "       4.01020479e-02, 8.75934366e-01, 8.20077191e-01, 1.44376025e-02,\n",
       "       4.81151576e-01, 1.63427763e-01, 5.47543132e-01, 4.21006843e-01])"
      ]
     },
     "execution_count": 34,
     "metadata": {},
     "output_type": "execute_result"
    }
   ],
   "source": [
    "sample = np.random.random(1000)\n",
    "sample"
   ]
  },
  {
   "cell_type": "code",
   "execution_count": 36,
   "metadata": {},
   "outputs": [
    {
     "data": {
      "image/png": "[encoded data removed]",
      "text/plain": [
       "<Figure size 432x288 with 1 Axes>"
      ]
     },
     "metadata": {
      "needs_background": "light"
     },
     "output_type": "display_data"
    }
   ],
   "source": [
    "pmf = thinkstats2.Pmf(sample)\n",
    "thinkplot.Pmf(pmf)"
   ]
  },
  {
   "cell_type": "code",
   "execution_count": 37,
   "metadata": {},
   "outputs": [
    {
     "data": {
      "text/plain": [
       "{'xscale': 'linear', 'yscale': 'linear'}"
      ]
     },
     "execution_count": 37,
     "metadata": {},
     "output_type": "execute_result"
    },
    {
     "data": {
      "image/png": "[encoded data removed]",
      "text/plain": [
       "<Figure size 432x288 with 1 Axes>"
      ]
     },
     "metadata": {
      "needs_background": "light"
     },
     "output_type": "display_data"
    }
   ],
   "source": [
    "cdf = thinkstats2.Cdf(sample)\n",
    "thinkplot.Cdf(cdf)"
   ]
  },
  {
   "cell_type": "code",
   "execution_count": 28,
   "metadata": {},
   "outputs": [
    {
     "data": {
      "text/plain": [
       "0.75"
      ]
     },
     "execution_count": 28,
     "metadata": {},
     "output_type": "execute_result"
    }
   ],
   "source": []
  },
  {
   "cell_type": "code",
   "execution_count": null,
   "metadata": {},
   "outputs": [],
   "source": []
  }
 ],
 "metadata": {
  "kernelspec": {
   "display_name": "Python 3",
   "language": "python",
   "name": "python3"
  },
  "language_info": {
   "codemirror_mode": {
    "name": "ipython",
    "version": 3
   },
   "file_extension": ".py",
   "mimetype": "text/x-python",
   "name": "python",
   "nbconvert_exporter": "python",
   "pygments_lexer": "ipython3",
   "version": "3.7.1"
  }
 },
 "nbformat": 4,
 "nbformat_minor": 1
}

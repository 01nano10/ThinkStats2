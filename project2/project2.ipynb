{
 "cells": [
  {
   "cell_type": "markdown",
   "metadata": {},
   "source": [
    "# Time Series Analysis"
   ]
  },
  {
   "cell_type": "markdown",
   "metadata": {},
   "source": [
    "#### Daphka Alius\n",
    "#### April 15, 2019"
   ]
  },
  {
   "cell_type": "markdown",
   "metadata": {},
   "source": [
    "The Standard and Poor's 500 Index, commonly known as the S&P 500, is an American Stock Market index based on the market capitalization of the 500 largest publicly traded companies in the US (Investopedia). The common stocks of the Index are traded on the NYSE, NASDAQ, and the Cboe BZX Exchange. The breakdown of the index by sector is extremely diverse with majority of the values in Information Technology, Communication Services, Health and extends to many more.(Dow Jones) The 10 largest companies with highest weights are Apple, Amazon, Berkshire Hathaway, Facebook, Alphabet, and more.\n",
    "\n",
    "\n",
    "Info regarding weighing if necessary can be found on [investopedia.com](https://www.investopedia.com/terms/s/sp500.asp)\n",
    "\n",
    "The US economy has been volatile since the beginning of its historical record with periods of contractions  and expansions that marked themselves in history as great depressions or recessions or booms that later turn into bursting bubbles. Nonetheless, a key component of the US economy is its stock market. The US stock market is the largest of its kind in the world. Politicians have come to refer to it interchangeably with the US economy. While there are many components of trade and commerce that contribute to either the expansion or the contraction of the US economy, the stock market does contribute and can speculate on the state of the economy. Using the S&P 500 as an instrument, I will examined the trends and patterns of the stock market in order to predict future performances that. Consequently, the result might provide insights into the future of our economy."
   ]
  },
  {
   "cell_type": "code",
   "execution_count": 1,
   "metadata": {},
   "outputs": [],
   "source": [
    "import pandas as pd\n",
    "import numpy as np\n",
    "import matplotlib.pyplot as plt\n",
    "import thinkplot\n",
    "import thinkstats2\n",
    "import seaborn as sns\n",
    "import statsmodels.api as sm\n",
    "import statsmodels.formula.api as smf"
   ]
  },
  {
   "cell_type": "code",
   "execution_count": 2,
   "metadata": {},
   "outputs": [],
   "source": [
    "path = \"/Users/daphka/Desktop/^GSPC.csv\""
   ]
  },
  {
   "cell_type": "markdown",
   "metadata": {},
   "source": [
    "## Loading Data"
   ]
  },
  {
   "cell_type": "markdown",
   "metadata": {},
   "source": [
    "We will read the CSV file into a Pandas DataFrame and convert the Date column into a datetime object."
   ]
  },
  {
   "cell_type": "code",
   "execution_count": 3,
   "metadata": {},
   "outputs": [],
   "source": [
    "SP500 = pd.read_csv(path, parse_dates =[0], index_col=0)"
   ]
  },
  {
   "cell_type": "markdown",
   "metadata": {},
   "source": [
    "The columns of the data set are:\n",
    "+ **Date:** The date in the format (yyyy-mm-dd)\n",
    "+ **Open:** The price of a stock at opening\n",
    "+ **High:** Highest recorded trading price of the day\n",
    "+ **Low:** Lowest recorded trading price of the day\n",
    "+ **Adj Close:** Amended closing price of the day\n",
    "+ **Volume:** Number of stocks traded on this day"
   ]
  },
  {
   "cell_type": "code",
   "execution_count": 4,
   "metadata": {},
   "outputs": [
    {
     "data": {
      "text/html": [
       "<div>\n",
       "<style scoped>\n",
       "    .dataframe tbody tr th:only-of-type {\n",
       "        vertical-align: middle;\n",
       "    }\n",
       "\n",
       "    .dataframe tbody tr th {\n",
       "        vertical-align: top;\n",
       "    }\n",
       "\n",
       "    .dataframe thead th {\n",
       "        text-align: right;\n",
       "    }\n",
       "</style>\n",
       "<table border=\"1\" class=\"dataframe\">\n",
       "  <thead>\n",
       "    <tr style=\"text-align: right;\">\n",
       "      <th></th>\n",
       "      <th>Open</th>\n",
       "      <th>High</th>\n",
       "      <th>Low</th>\n",
       "      <th>Close</th>\n",
       "      <th>Adj Close</th>\n",
       "      <th>Volume</th>\n",
       "    </tr>\n",
       "    <tr>\n",
       "      <th>Date</th>\n",
       "      <th></th>\n",
       "      <th></th>\n",
       "      <th></th>\n",
       "      <th></th>\n",
       "      <th></th>\n",
       "      <th></th>\n",
       "    </tr>\n",
       "  </thead>\n",
       "  <tbody>\n",
       "    <tr>\n",
       "      <th>1997-01-01</th>\n",
       "      <td>740.739990</td>\n",
       "      <td>794.669983</td>\n",
       "      <td>729.549988</td>\n",
       "      <td>786.159973</td>\n",
       "      <td>786.159973</td>\n",
       "      <td>11635830000</td>\n",
       "    </tr>\n",
       "    <tr>\n",
       "      <th>1997-02-01</th>\n",
       "      <td>786.159973</td>\n",
       "      <td>817.679993</td>\n",
       "      <td>773.429993</td>\n",
       "      <td>790.820007</td>\n",
       "      <td>790.820007</td>\n",
       "      <td>9715930000</td>\n",
       "    </tr>\n",
       "    <tr>\n",
       "      <th>1997-03-01</th>\n",
       "      <td>790.820007</td>\n",
       "      <td>814.900024</td>\n",
       "      <td>756.130005</td>\n",
       "      <td>757.119995</td>\n",
       "      <td>757.119995</td>\n",
       "      <td>10120760000</td>\n",
       "    </tr>\n",
       "    <tr>\n",
       "      <th>1997-04-01</th>\n",
       "      <td>757.119995</td>\n",
       "      <td>804.130005</td>\n",
       "      <td>733.539978</td>\n",
       "      <td>801.340027</td>\n",
       "      <td>801.340027</td>\n",
       "      <td>10454880000</td>\n",
       "    </tr>\n",
       "    <tr>\n",
       "      <th>1997-05-01</th>\n",
       "      <td>801.340027</td>\n",
       "      <td>851.869995</td>\n",
       "      <td>793.210022</td>\n",
       "      <td>848.280029</td>\n",
       "      <td>848.280029</td>\n",
       "      <td>10106650000</td>\n",
       "    </tr>\n",
       "  </tbody>\n",
       "</table>\n",
       "</div>"
      ],
      "text/plain": [
       "                  Open        High         Low       Close   Adj Close  \\\n",
       "Date                                                                     \n",
       "1997-01-01  740.739990  794.669983  729.549988  786.159973  786.159973   \n",
       "1997-02-01  786.159973  817.679993  773.429993  790.820007  790.820007   \n",
       "1997-03-01  790.820007  814.900024  756.130005  757.119995  757.119995   \n",
       "1997-04-01  757.119995  804.130005  733.539978  801.340027  801.340027   \n",
       "1997-05-01  801.340027  851.869995  793.210022  848.280029  848.280029   \n",
       "\n",
       "                 Volume  \n",
       "Date                     \n",
       "1997-01-01  11635830000  \n",
       "1997-02-01   9715930000  \n",
       "1997-03-01  10120760000  \n",
       "1997-04-01  10454880000  \n",
       "1997-05-01  10106650000  "
      ]
     },
     "execution_count": 4,
     "metadata": {},
     "output_type": "execute_result"
    }
   ],
   "source": [
    "SP500.head()"
   ]
  },
  {
   "cell_type": "code",
   "execution_count": 5,
   "metadata": {},
   "outputs": [
    {
     "data": {
      "text/html": [
       "<div>\n",
       "<style scoped>\n",
       "    .dataframe tbody tr th:only-of-type {\n",
       "        vertical-align: middle;\n",
       "    }\n",
       "\n",
       "    .dataframe tbody tr th {\n",
       "        vertical-align: top;\n",
       "    }\n",
       "\n",
       "    .dataframe thead th {\n",
       "        text-align: right;\n",
       "    }\n",
       "</style>\n",
       "<table border=\"1\" class=\"dataframe\">\n",
       "  <thead>\n",
       "    <tr style=\"text-align: right;\">\n",
       "      <th></th>\n",
       "      <th>Open</th>\n",
       "      <th>High</th>\n",
       "      <th>Low</th>\n",
       "      <th>Close</th>\n",
       "      <th>Adj Close</th>\n",
       "      <th>Volume</th>\n",
       "    </tr>\n",
       "    <tr>\n",
       "      <th>Date</th>\n",
       "      <th></th>\n",
       "      <th></th>\n",
       "      <th></th>\n",
       "      <th></th>\n",
       "      <th></th>\n",
       "      <th></th>\n",
       "    </tr>\n",
       "  </thead>\n",
       "  <tbody>\n",
       "    <tr>\n",
       "      <th>2017-08-01</th>\n",
       "      <td>2477.100098</td>\n",
       "      <td>2490.870117</td>\n",
       "      <td>2417.350098</td>\n",
       "      <td>2471.649902</td>\n",
       "      <td>2471.649902</td>\n",
       "      <td>70616030000</td>\n",
       "    </tr>\n",
       "    <tr>\n",
       "      <th>2017-09-01</th>\n",
       "      <td>2474.419922</td>\n",
       "      <td>2519.439941</td>\n",
       "      <td>2446.550049</td>\n",
       "      <td>2519.360107</td>\n",
       "      <td>2519.360107</td>\n",
       "      <td>66337980000</td>\n",
       "    </tr>\n",
       "    <tr>\n",
       "      <th>2017-10-01</th>\n",
       "      <td>2521.199951</td>\n",
       "      <td>2582.979980</td>\n",
       "      <td>2520.399902</td>\n",
       "      <td>2575.260010</td>\n",
       "      <td>2575.260010</td>\n",
       "      <td>70871570000</td>\n",
       "    </tr>\n",
       "    <tr>\n",
       "      <th>2017-11-01</th>\n",
       "      <td>2583.209961</td>\n",
       "      <td>2657.739990</td>\n",
       "      <td>2557.449951</td>\n",
       "      <td>2584.840088</td>\n",
       "      <td>2584.840088</td>\n",
       "      <td>95142800000</td>\n",
       "    </tr>\n",
       "    <tr>\n",
       "      <th>2017-12-01</th>\n",
       "      <td>2645.100098</td>\n",
       "      <td>2694.969971</td>\n",
       "      <td>2605.520020</td>\n",
       "      <td>2673.610107</td>\n",
       "      <td>2673.610107</td>\n",
       "      <td>65251190000</td>\n",
       "    </tr>\n",
       "  </tbody>\n",
       "</table>\n",
       "</div>"
      ],
      "text/plain": [
       "                   Open         High          Low        Close    Adj Close  \\\n",
       "Date                                                                          \n",
       "2017-08-01  2477.100098  2490.870117  2417.350098  2471.649902  2471.649902   \n",
       "2017-09-01  2474.419922  2519.439941  2446.550049  2519.360107  2519.360107   \n",
       "2017-10-01  2521.199951  2582.979980  2520.399902  2575.260010  2575.260010   \n",
       "2017-11-01  2583.209961  2657.739990  2557.449951  2584.840088  2584.840088   \n",
       "2017-12-01  2645.100098  2694.969971  2605.520020  2673.610107  2673.610107   \n",
       "\n",
       "                 Volume  \n",
       "Date                     \n",
       "2017-08-01  70616030000  \n",
       "2017-09-01  66337980000  \n",
       "2017-10-01  70871570000  \n",
       "2017-11-01  95142800000  \n",
       "2017-12-01  65251190000  "
      ]
     },
     "execution_count": 5,
     "metadata": {},
     "output_type": "execute_result"
    }
   ],
   "source": [
    "SP500.tail()"
   ]
  },
  {
   "cell_type": "code",
   "execution_count": 6,
   "metadata": {},
   "outputs": [
    {
     "data": {
      "text/html": [
       "<div>\n",
       "<style scoped>\n",
       "    .dataframe tbody tr th:only-of-type {\n",
       "        vertical-align: middle;\n",
       "    }\n",
       "\n",
       "    .dataframe tbody tr th {\n",
       "        vertical-align: top;\n",
       "    }\n",
       "\n",
       "    .dataframe thead th {\n",
       "        text-align: right;\n",
       "    }\n",
       "</style>\n",
       "<table border=\"1\" class=\"dataframe\">\n",
       "  <thead>\n",
       "    <tr style=\"text-align: right;\">\n",
       "      <th></th>\n",
       "      <th>count</th>\n",
       "      <th>mean</th>\n",
       "      <th>std</th>\n",
       "      <th>min</th>\n",
       "      <th>25%</th>\n",
       "      <th>50%</th>\n",
       "      <th>75%</th>\n",
       "      <th>max</th>\n",
       "    </tr>\n",
       "  </thead>\n",
       "  <tbody>\n",
       "    <tr>\n",
       "      <th>Open</th>\n",
       "      <td>252.0</td>\n",
       "      <td>1.382099e+03</td>\n",
       "      <td>4.204321e+02</td>\n",
       "      <td>7.295700e+02</td>\n",
       "      <td>1.106387e+03</td>\n",
       "      <td>1.281685e+03</td>\n",
       "      <td>1.500100e+03</td>\n",
       "      <td>2.645100e+03</td>\n",
       "    </tr>\n",
       "    <tr>\n",
       "      <th>High</th>\n",
       "      <td>252.0</td>\n",
       "      <td>1.425901e+03</td>\n",
       "      <td>4.213055e+02</td>\n",
       "      <td>7.946700e+02</td>\n",
       "      <td>1.138875e+03</td>\n",
       "      <td>1.317045e+03</td>\n",
       "      <td>1.539195e+03</td>\n",
       "      <td>2.694970e+03</td>\n",
       "    </tr>\n",
       "    <tr>\n",
       "      <th>Low</th>\n",
       "      <td>252.0</td>\n",
       "      <td>1.335735e+03</td>\n",
       "      <td>4.207280e+02</td>\n",
       "      <td>6.667900e+02</td>\n",
       "      <td>1.069557e+03</td>\n",
       "      <td>1.248250e+03</td>\n",
       "      <td>1.443030e+03</td>\n",
       "      <td>2.605520e+03</td>\n",
       "    </tr>\n",
       "    <tr>\n",
       "      <th>Close</th>\n",
       "      <td>252.0</td>\n",
       "      <td>1.389074e+03</td>\n",
       "      <td>4.248590e+02</td>\n",
       "      <td>7.350900e+02</td>\n",
       "      <td>1.106170e+03</td>\n",
       "      <td>1.282770e+03</td>\n",
       "      <td>1.506182e+03</td>\n",
       "      <td>2.673610e+03</td>\n",
       "    </tr>\n",
       "    <tr>\n",
       "      <th>Adj Close</th>\n",
       "      <td>252.0</td>\n",
       "      <td>1.389074e+03</td>\n",
       "      <td>4.248590e+02</td>\n",
       "      <td>7.350900e+02</td>\n",
       "      <td>1.106170e+03</td>\n",
       "      <td>1.282770e+03</td>\n",
       "      <td>1.506182e+03</td>\n",
       "      <td>2.673610e+03</td>\n",
       "    </tr>\n",
       "    <tr>\n",
       "      <th>Volume</th>\n",
       "      <td>252.0</td>\n",
       "      <td>5.667980e+10</td>\n",
       "      <td>3.299014e+10</td>\n",
       "      <td>9.715930e+09</td>\n",
       "      <td>2.658090e+10</td>\n",
       "      <td>6.119653e+10</td>\n",
       "      <td>7.970272e+10</td>\n",
       "      <td>1.618436e+11</td>\n",
       "    </tr>\n",
       "  </tbody>\n",
       "</table>\n",
       "</div>"
      ],
      "text/plain": [
       "           count          mean           std           min           25%  \\\n",
       "Open       252.0  1.382099e+03  4.204321e+02  7.295700e+02  1.106387e+03   \n",
       "High       252.0  1.425901e+03  4.213055e+02  7.946700e+02  1.138875e+03   \n",
       "Low        252.0  1.335735e+03  4.207280e+02  6.667900e+02  1.069557e+03   \n",
       "Close      252.0  1.389074e+03  4.248590e+02  7.350900e+02  1.106170e+03   \n",
       "Adj Close  252.0  1.389074e+03  4.248590e+02  7.350900e+02  1.106170e+03   \n",
       "Volume     252.0  5.667980e+10  3.299014e+10  9.715930e+09  2.658090e+10   \n",
       "\n",
       "                    50%           75%           max  \n",
       "Open       1.281685e+03  1.500100e+03  2.645100e+03  \n",
       "High       1.317045e+03  1.539195e+03  2.694970e+03  \n",
       "Low        1.248250e+03  1.443030e+03  2.605520e+03  \n",
       "Close      1.282770e+03  1.506182e+03  2.673610e+03  \n",
       "Adj Close  1.282770e+03  1.506182e+03  2.673610e+03  \n",
       "Volume     6.119653e+10  7.970272e+10  1.618436e+11  "
      ]
     },
     "execution_count": 6,
     "metadata": {},
     "output_type": "execute_result"
    }
   ],
   "source": [
    "SP500.describe().transpose()"
   ]
  },
  {
   "cell_type": "markdown",
   "metadata": {},
   "source": [
    "Question: The stock market is not open every day. Therefore, there are missing dates. Would those be considered missing data that I would need to represent as such?"
   ]
  },
  {
   "cell_type": "code",
   "execution_count": 7,
   "metadata": {},
   "outputs": [],
   "source": [
    "sns.set(rc={'figure.figsize':(11, 4)})\n"
   ]
  },
  {
   "cell_type": "code",
   "execution_count": 8,
   "metadata": {},
   "outputs": [
    {
     "data": {
      "image/png": "[encoded data removed]",
      "text/plain": [
       "<Figure size 792x288 with 1 Axes>"
      ]
     },
     "metadata": {},
     "output_type": "display_data"
    }
   ],
   "source": [
    "SP500[\"Adj Close\"].plot(linewidth=0.5);\n"
   ]
  },
  {
   "cell_type": "markdown",
   "metadata": {},
   "source": [
    "**Trend:** The Adjusted Closing Price seems to have been increasing over the past 70 years. However, we can use a rolling mean to smoothen out this pattern. A rolling mean is a statistical tool used to smoothen short-term fluctuations in our data set in order to highlight long-term trends."
   ]
  },
  {
   "cell_type": "code",
   "execution_count": 17,
   "metadata": {},
   "outputs": [],
   "source": [
    "#What's the difference between sm vs smf?\n",
    "prices = SP500[\"Adj Close\"]\n",
    "rollingMean5 = prices.rolling(24).mean() #1255 = 251*5 for every five year window\n",
    "rollingStd5 = prices.rolling(24).std()"
   ]
  },
  {
   "cell_type": "code",
   "execution_count": 18,
   "metadata": {},
   "outputs": [
    {
     "data": {
      "image/png": "[encoded data removed]",
      "text/plain": [
       "<Figure size 792x288 with 1 Axes>"
      ]
     },
     "metadata": {},
     "output_type": "display_data"
    }
   ],
   "source": [
    "prices.plot()\n",
    "rollingMean5.plot(label = \"5-Yr Rolling Mean\")\n",
    "rollingStd5.plot(label = \"5-Yr Rolling Std\")\n",
    "plt.legend()\n",
    "plt.show()"
   ]
  },
  {
   "cell_type": "markdown",
   "metadata": {},
   "source": [
    "As is depicted by the orange curve, we can see the upward trend that confirms the increasing pattern of the S&P500 Index with a window of five years. Additionally, the rolling standard deviation of a five year window also shows increase in standard deviation which signals more volatility of stock prices."
   ]
  },
  {
   "cell_type": "code",
   "execution_count": 14,
   "metadata": {},
   "outputs": [
    {
     "data": {
      "text/plain": [
       "Date\n",
       "1950-01-03    16.66\n",
       "1950-01-04    16.85\n",
       "1950-01-05    16.93\n",
       "1950-01-06    16.98\n",
       "1950-01-09    17.08\n",
       "Name: Adj Close, dtype: float64"
      ]
     },
     "execution_count": 14,
     "metadata": {},
     "output_type": "execute_result"
    }
   ],
   "source": [
    "prices.head()"
   ]
  },
  {
   "cell_type": "code",
   "execution_count": 12,
   "metadata": {},
   "outputs": [],
   "source": [
    "from statsmodels.tsa.seasonal import seasonal_decompose"
   ]
  },
  {
   "cell_type": "code",
   "execution_count": 16,
   "metadata": {},
   "outputs": [],
   "source": [
    "decomposition = seasonal_decompose(prices, model=\"additive\", freq=1)"
   ]
  },
  {
   "cell_type": "code",
   "execution_count": null,
   "metadata": {},
   "outputs": [],
   "source": [
    "decomposition."
   ]
  },
  {
   "cell_type": "code",
   "execution_count": 12,
   "metadata": {},
   "outputs": [
    {
     "data": {
      "text/plain": [
       "0          16.660000\n",
       "1          16.850000\n",
       "2          16.930000\n",
       "3          16.980000\n",
       "4          17.080000\n",
       "5          17.030001\n",
       "6          17.090000\n",
       "7          16.760000\n",
       "8          16.670000\n",
       "9          16.719999\n",
       "10         16.860001\n",
       "11         16.850000\n",
       "12         16.870001\n",
       "13         16.900000\n",
       "14         16.920000\n",
       "15         16.860001\n",
       "16         16.740000\n",
       "17         16.730000\n",
       "18         16.820000\n",
       "19         17.020000\n",
       "20         17.049999\n",
       "21         17.049999\n",
       "22         17.230000\n",
       "23         17.290001\n",
       "24         17.320000\n",
       "25         17.230000\n",
       "26         17.209999\n",
       "27         17.280001\n",
       "28         17.240000\n",
       "29         17.059999\n",
       "            ...     \n",
       "17389    2748.189941\n",
       "17390    2761.850098\n",
       "17391    2757.899902\n",
       "17392    2775.659912\n",
       "17393    2787.330078\n",
       "17394    2789.879883\n",
       "17395    2781.580078\n",
       "17396    2794.199951\n",
       "17397    2813.489990\n",
       "17398    2803.120117\n",
       "17399    2795.760010\n",
       "17400    2793.729980\n",
       "17401    2808.020020\n",
       "17402    2816.879883\n",
       "17403    2796.439941\n",
       "17404    2790.270020\n",
       "17405    2767.250000\n",
       "17406    2744.129883\n",
       "17407    2784.000000\n",
       "17408    2798.320068\n",
       "17409    2821.239990\n",
       "17410    2815.000000\n",
       "17411    2830.729980\n",
       "17412    2835.409912\n",
       "17413    2852.419922\n",
       "17414    2843.540039\n",
       "17415    2860.310059\n",
       "17416    2846.159912\n",
       "17417    2809.790039\n",
       "17418    2829.870117\n",
       "Name: High, Length: 17419, dtype: float64"
      ]
     },
     "execution_count": 12,
     "metadata": {},
     "output_type": "execute_result"
    }
   ],
   "source": [
    "highs = SP500[\"High\"]\n",
    "lows = SP500[\"Low\"]"
   ]
  },
  {
   "cell_type": "code",
   "execution_count": 17,
   "metadata": {},
   "outputs": [
    {
     "data": {
      "image/png": "[encoded data removed]",
      "text/plain": [
       "<Figure size 432x288 with 1 Axes>"
      ]
     },
     "metadata": {
      "needs_background": "light"
     },
     "output_type": "display_data"
    }
   ],
   "source": [
    "plt.plot(highs)\n",
    "plt.ylabel(\"Prices ($)\")\n",
    "plt.title(\"Daily S&P500 Highs from 1950-2019\")\n",
    "plt.show()"
   ]
  },
  {
   "cell_type": "code",
   "execution_count": 18,
   "metadata": {},
   "outputs": [
    {
     "data": {
      "text/plain": [
       "(array([9830., 1717.,  595., 1583., 1933.,  408.,  419.,  415.,  224.,\n",
       "         295.]), array([  16.66     ,  309.0849912,  601.5099824,  893.9349736,\n",
       "        1186.3599648, 1478.784956 , 1771.2099472, 2063.6349384,\n",
       "        2356.0599296, 2648.4849208, 2940.909912 ]), <a list of 10 Patch objects>)"
      ]
     },
     "execution_count": 18,
     "metadata": {},
     "output_type": "execute_result"
    },
    {
     "data": {
      "image/png": "[encoded data removed]",
      "text/plain": [
       "<Figure size 432x288 with 1 Axes>"
      ]
     },
     "metadata": {
      "needs_background": "light"
     },
     "output_type": "display_data"
    }
   ],
   "source": [
    "plt.hist(highs)"
   ]
  },
  {
   "cell_type": "code",
   "execution_count": 13,
   "metadata": {},
   "outputs": [
    {
     "data": {
      "image/png": "[encoded data removed]",
      "text/plain": [
       "<Figure size 432x288 with 1 Axes>"
      ]
     },
     "metadata": {
      "needs_background": "light"
     },
     "output_type": "display_data"
    }
   ],
   "source": [
    "thinkplot.plot(highs)"
   ]
  },
  {
   "cell_type": "code",
   "execution_count": 14,
   "metadata": {},
   "outputs": [
    {
     "data": {
      "image/png": "[encoded data removed]",
      "text/plain": [
       "<Figure size 432x288 with 1 Axes>"
      ]
     },
     "metadata": {
      "needs_background": "light"
     },
     "output_type": "display_data"
    }
   ],
   "source": [
    "thinkplot.plot(lows)"
   ]
  },
  {
   "cell_type": "code",
   "execution_count": 17,
   "metadata": {},
   "outputs": [
    {
     "data": {
      "image/png": "[encoded data removed]",
      "text/plain": [
       "<Figure size 432x288 with 1 Axes>"
      ]
     },
     "metadata": {
      "needs_background": "light"
     },
     "output_type": "display_data"
    }
   ],
   "source": [
    "high_cdf = thinkstats2.Cdf(highs)\n",
    "thinkplot.Cdf(high_cdf)\n",
    "thinkplot.Config(title = \"CDF of S&P500 Highs\", ylabel = \"CDF\",\n",
    "                xlabel=\"Prices ($)\")"
   ]
  },
  {
   "cell_type": "code",
   "execution_count": null,
   "metadata": {},
   "outputs": [],
   "source": []
  }
 ],
 "metadata": {
  "kernelspec": {
   "display_name": "Python 3",
   "language": "python",
   "name": "python3"
  },
  "language_info": {
   "codemirror_mode": {
    "name": "ipython",
    "version": 3
   },
   "file_extension": ".py",
   "mimetype": "text/x-python",
   "name": "python",
   "nbconvert_exporter": "python",
   "pygments_lexer": "ipython3",
   "version": "3.7.1"
  }
 },
 "nbformat": 4,
 "nbformat_minor": 2
}
